{
 "cells": [
  {
   "cell_type": "markdown",
   "id": "62715c48-0ec6-4aa4-b625-c3953e70471d",
   "metadata": {},
   "source": [
    "# MSU Library Project"
   ]
  },
  {
   "cell_type": "code",
   "execution_count": 1,
   "id": "16a2668f-03ab-4d5c-bf2c-1ced45b24b73",
   "metadata": {
    "tags": []
   },
   "outputs": [],
   "source": [
    "import pandas as pd\n",
    "from scipy.stats import chi2_contingency\n",
    "#from scipy import stats\n",
    "import seaborn as sns"
   ]
  },
  {
   "cell_type": "markdown",
   "id": "c045d2cb-0dbc-450a-a37a-5e5780238835",
   "metadata": {},
   "source": [
    "## What was the click-through rate for each version?  "
   ]
  },
  {
   "cell_type": "code",
   "execution_count": 2,
   "id": "b8c393ec-7932-4d0d-a773-b422886f148f",
   "metadata": {
    "tags": []
   },
   "outputs": [],
   "source": [
    "# 10283 visits - 42 clicks on INTERACT\n",
    "# 2742 visits - 53 for CONNECT\n",
    "# 2747 visits - 21  clicks on LEARN\n",
    "# 3180 vistis - 38 clicks on HELP\n",
    "# 2064 visits - 45 clicks on SERVICES"
   ]
  },
  {
   "cell_type": "code",
   "execution_count": 20,
   "id": "07bfb97e-5398-4f74-aaab-baaf0272bdb5",
   "metadata": {
    "tags": []
   },
   "outputs": [
    {
     "data": {
      "text/html": [
       "<div>\n",
       "<style scoped>\n",
       "    .dataframe tbody tr th:only-of-type {\n",
       "        vertical-align: middle;\n",
       "    }\n",
       "\n",
       "    .dataframe tbody tr th {\n",
       "        vertical-align: top;\n",
       "    }\n",
       "\n",
       "    .dataframe thead th {\n",
       "        text-align: right;\n",
       "    }\n",
       "</style>\n",
       "<table border=\"1\" class=\"dataframe\">\n",
       "  <thead>\n",
       "    <tr style=\"text-align: right;\">\n",
       "      <th></th>\n",
       "      <th>Version</th>\n",
       "      <th>Clicks</th>\n",
       "      <th>Visits</th>\n",
       "      <th>CTR</th>\n",
       "    </tr>\n",
       "  </thead>\n",
       "  <tbody>\n",
       "    <tr>\n",
       "      <th>4</th>\n",
       "      <td>Services</td>\n",
       "      <td>45</td>\n",
       "      <td>2064</td>\n",
       "      <td>0.021802</td>\n",
       "    </tr>\n",
       "    <tr>\n",
       "      <th>1</th>\n",
       "      <td>Connect</td>\n",
       "      <td>53</td>\n",
       "      <td>2742</td>\n",
       "      <td>0.019329</td>\n",
       "    </tr>\n",
       "    <tr>\n",
       "      <th>3</th>\n",
       "      <td>Help</td>\n",
       "      <td>38</td>\n",
       "      <td>3180</td>\n",
       "      <td>0.011950</td>\n",
       "    </tr>\n",
       "    <tr>\n",
       "      <th>2</th>\n",
       "      <td>Learn</td>\n",
       "      <td>21</td>\n",
       "      <td>2747</td>\n",
       "      <td>0.007645</td>\n",
       "    </tr>\n",
       "    <tr>\n",
       "      <th>0</th>\n",
       "      <td>Interact</td>\n",
       "      <td>42</td>\n",
       "      <td>10283</td>\n",
       "      <td>0.004084</td>\n",
       "    </tr>\n",
       "  </tbody>\n",
       "</table>\n",
       "</div>"
      ],
      "text/plain": [
       "    Version  Clicks  Visits       CTR\n",
       "4  Services      45    2064  0.021802\n",
       "1   Connect      53    2742  0.019329\n",
       "3      Help      38    3180  0.011950\n",
       "2     Learn      21    2747  0.007645\n",
       "0  Interact      42   10283  0.004084"
      ]
     },
     "execution_count": 20,
     "metadata": {},
     "output_type": "execute_result"
    }
   ],
   "source": [
    "data = {\n",
    "    \"Version\": ['Interact', 'Connect', 'Learn', 'Help', 'Services'],\n",
    "    \"Clicks\": [42, 53, 21, 38, 45],\n",
    "    \"Visits\": [10283, 2742, 2747, 3180, 2064] \n",
    "}\n",
    "\n",
    "observed_clicks_CTR = pd.DataFrame(data)\n",
    "observed_clicks_CTR['CTR'] = observed_clicks_CTR['Clicks'] / observed_clicks_CTR['Visits']\n",
    "\n",
    "observed_clicks_CTR.sort_values('CTR', ascending=False)"
   ]
  },
  {
   "cell_type": "markdown",
   "id": "74f900e7-8ef9-4395-a077-a843c2da1b03",
   "metadata": {},
   "source": [
    "## Which version was the winner?  "
   ]
  },
  {
   "cell_type": "markdown",
   "id": "d1892043-1e4b-4e11-a6cd-dcbda123a59e",
   "metadata": {},
   "source": [
    "Null Hypothesis: All versions have the same CTR.  \n",
    "Alternative Hypothesis: There is a difference in the CTR for the different versions."
   ]
  },
  {
   "cell_type": "code",
   "execution_count": 21,
   "id": "42e5554f-1a38-4bc6-b210-292f3c0ba0f5",
   "metadata": {
    "tags": []
   },
   "outputs": [],
   "source": [
    "alpha = 0.1"
   ]
  },
  {
   "cell_type": "code",
   "execution_count": 22,
   "id": "efe10238-7ff9-4fd8-b1fa-7e9c0ecf1011",
   "metadata": {
    "tags": []
   },
   "outputs": [
    {
     "data": {
      "text/html": [
       "<div>\n",
       "<style scoped>\n",
       "    .dataframe tbody tr th:only-of-type {\n",
       "        vertical-align: middle;\n",
       "    }\n",
       "\n",
       "    .dataframe tbody tr th {\n",
       "        vertical-align: top;\n",
       "    }\n",
       "\n",
       "    .dataframe thead th {\n",
       "        text-align: right;\n",
       "    }\n",
       "</style>\n",
       "<table border=\"1\" class=\"dataframe\">\n",
       "  <thead>\n",
       "    <tr style=\"text-align: right;\">\n",
       "      <th></th>\n",
       "      <th>Interact</th>\n",
       "      <th>Connect</th>\n",
       "      <th>Learn</th>\n",
       "      <th>Help</th>\n",
       "      <th>Services</th>\n",
       "    </tr>\n",
       "  </thead>\n",
       "  <tbody>\n",
       "    <tr>\n",
       "      <th>Clicks</th>\n",
       "      <td>42</td>\n",
       "      <td>53</td>\n",
       "      <td>21</td>\n",
       "      <td>38</td>\n",
       "      <td>45</td>\n",
       "    </tr>\n",
       "    <tr>\n",
       "      <th>No_click</th>\n",
       "      <td>10241</td>\n",
       "      <td>2689</td>\n",
       "      <td>2726</td>\n",
       "      <td>3142</td>\n",
       "      <td>2019</td>\n",
       "    </tr>\n",
       "  </tbody>\n",
       "</table>\n",
       "</div>"
      ],
      "text/plain": [
       "          Interact  Connect  Learn  Help  Services\n",
       "Clicks          42       53     21    38        45\n",
       "No_click     10241     2689   2726  3142      2019"
      ]
     },
     "execution_count": 22,
     "metadata": {},
     "output_type": "execute_result"
    }
   ],
   "source": [
    "data = {\n",
    "    \"Clicks\": [42, 53, 21, 38, 45],\n",
    "    \"Visits\": [10283, 2742, 2747, 3180, 2064]\n",
    "}\n",
    "\n",
    "observed_clicks = pd.DataFrame(data)\n",
    "observed_clicks['No_click'] = observed_clicks['Visits'] - observed_clicks['Clicks']\n",
    "\n",
    "observed_clicks = observed_clicks[['Clicks', 'No_click']].T\n",
    "observed_clicks.columns = ['Interact', 'Connect', 'Learn', 'Help', 'Services']\n",
    "\n",
    "observed_clicks\n"
   ]
  },
  {
   "cell_type": "code",
   "execution_count": 23,
   "id": "e98f1137-2733-46cb-b5d4-dd27f7d71e1c",
   "metadata": {
    "tags": []
   },
   "outputs": [],
   "source": [
    "chisq, pvalue, df, expected = chi2_contingency(observed_clicks)"
   ]
  },
  {
   "cell_type": "code",
   "execution_count": 38,
   "id": "c5994c36-49b2-4979-b5f2-3955b0f97b06",
   "metadata": {
    "tags": []
   },
   "outputs": [
    {
     "data": {
      "text/plain": [
       "0.007370912499282061"
      ]
     },
     "execution_count": 38,
     "metadata": {},
     "output_type": "execute_result"
    }
   ],
   "source": [
    "pvalue"
   ]
  },
  {
   "cell_type": "code",
   "execution_count": 39,
   "id": "2b58e3a7-18f7-4f4d-9c8e-9d44ca4ce022",
   "metadata": {
    "tags": []
   },
   "outputs": [
    {
     "name": "stdout",
     "output_type": "stream",
     "text": [
      "Reject the null hypothesis\n"
     ]
    }
   ],
   "source": [
    "if abs(pvalue) < abs(alpha):\n",
    "    print(\"Reject the null hypothesis\")\n",
    "else:\n",
    "    print(\"Fail to reject the null hypothesis\")"
   ]
  },
  {
   "cell_type": "markdown",
   "id": "3d830259-7530-40eb-b291-26bddcede6cf",
   "metadata": {},
   "source": [
    "### Perform a Post-hoc-test"
   ]
  },
  {
   "cell_type": "code",
   "execution_count": 40,
   "id": "eea4667c-1b36-4b33-b277-7f32e74a0de2",
   "metadata": {
    "tags": []
   },
   "outputs": [],
   "source": [
    "num_comparisons = 10\n",
    "alpha_pht = 0.1 / num_comparisons"
   ]
  },
  {
   "cell_type": "markdown",
   "id": "1c979271-277b-4fcd-8ebd-3b6652fa65f1",
   "metadata": {},
   "source": [
    "Null Hypothesis: Both versions have the same CTR.  \n",
    "Alternative Hypothesis: There is a difference in the CTR between the two versions."
   ]
  },
  {
   "cell_type": "code",
   "execution_count": 30,
   "id": "f87d60fb-3e01-423e-b81c-289ec9069847",
   "metadata": {
    "tags": []
   },
   "outputs": [
    {
     "data": {
      "text/html": [
       "<div>\n",
       "<style scoped>\n",
       "    .dataframe tbody tr th:only-of-type {\n",
       "        vertical-align: middle;\n",
       "    }\n",
       "\n",
       "    .dataframe tbody tr th {\n",
       "        vertical-align: top;\n",
       "    }\n",
       "\n",
       "    .dataframe thead th {\n",
       "        text-align: right;\n",
       "    }\n",
       "</style>\n",
       "<table border=\"1\" class=\"dataframe\">\n",
       "  <thead>\n",
       "    <tr style=\"text-align: right;\">\n",
       "      <th></th>\n",
       "      <th>Interact</th>\n",
       "      <th>Connect</th>\n",
       "    </tr>\n",
       "  </thead>\n",
       "  <tbody>\n",
       "    <tr>\n",
       "      <th>Clicks</th>\n",
       "      <td>42</td>\n",
       "      <td>53</td>\n",
       "    </tr>\n",
       "    <tr>\n",
       "      <th>No_click</th>\n",
       "      <td>10241</td>\n",
       "      <td>2689</td>\n",
       "    </tr>\n",
       "  </tbody>\n",
       "</table>\n",
       "</div>"
      ],
      "text/plain": [
       "          Interact  Connect\n",
       "Clicks          42       53\n",
       "No_click     10241     2689"
      ]
     },
     "execution_count": 30,
     "metadata": {},
     "output_type": "execute_result"
    }
   ],
   "source": [
    "observed_clicks_1 = observed_clicks.iloc[:, :2]\n",
    "observed_clicks_1"
   ]
  },
  {
   "cell_type": "code",
   "execution_count": 31,
   "id": "ea042d89-2913-4cd2-a4ef-869781b60df8",
   "metadata": {
    "tags": []
   },
   "outputs": [],
   "source": [
    "chisq, pvalue, df, expected = chi2_contingency(observed_clicks_1)"
   ]
  },
  {
   "cell_type": "code",
   "execution_count": 32,
   "id": "fbed5dca-6d24-4d0a-8bbb-0e2d48a5bbee",
   "metadata": {
    "tags": []
   },
   "outputs": [
    {
     "name": "stdout",
     "output_type": "stream",
     "text": [
      "Reject the null hypothesis\n"
     ]
    }
   ],
   "source": [
    "if abs(pvalue) < abs(alpha_pht):\n",
    "    print(\"Reject the null hypothesis\")\n",
    "else:\n",
    "    print(\"Fail to reject the null hypothesis\")"
   ]
  },
  {
   "cell_type": "code",
   "execution_count": 33,
   "id": "efb6f53f-277d-4d34-8b2e-5ae0ba1407bf",
   "metadata": {
    "tags": []
   },
   "outputs": [
    {
     "data": {
      "text/plain": [
       "[('Interact', 'Connect'),\n",
       " ('Interact', 'Learn'),\n",
       " ('Interact', 'Help'),\n",
       " ('Interact', 'Services'),\n",
       " ('Connect', 'Learn'),\n",
       " ('Connect', 'Help'),\n",
       " ('Connect', 'Services'),\n",
       " ('Learn', 'Help'),\n",
       " ('Learn', 'Services'),\n",
       " ('Help', 'Services')]"
      ]
     },
     "execution_count": 33,
     "metadata": {},
     "output_type": "execute_result"
    }
   ],
   "source": [
    "columns = observed_clicks.columns\n",
    "\n",
    "column_combinations = []\n",
    "\n",
    "for i in range(len(columns)):\n",
    "    for j in range(i + 1, len(columns)):\n",
    "        column_combinations.append((columns[i], columns[j]))\n",
    "\n",
    "column_combinations"
   ]
  },
  {
   "cell_type": "code",
   "execution_count": 34,
   "id": "616897ce-e835-4bce-9d5f-bff24eeb1cd6",
   "metadata": {
    "tags": []
   },
   "outputs": [
    {
     "name": "stdout",
     "output_type": "stream",
     "text": [
      "Reject the null hypothesis for Interact vs Connect, p-value: 2.2250331654688293e-16\n",
      "Fail to reject the null hypothesis for Interact vs Learn, p-value: 0.025419824342152637\n",
      "Reject the null hypothesis for Interact vs Help, p-value: 9.03599988558687e-07\n",
      "Reject the null hypothesis for Interact vs Services, p-value: 5.719451224375125e-18\n",
      "Reject the null hypothesis for Connect vs Learn, p-value: 0.00027678881264505827\n",
      "Fail to reject the null hypothesis for Connect vs Help, p-value: 0.02808815288948292\n",
      "Fail to reject the null hypothesis for Connect vs Services, p-value: 0.6188771123975272\n",
      "Fail to reject the null hypothesis for Learn vs Help, p-value: 0.12512753088691322\n",
      "Reject the null hypothesis for Learn vs Services, p-value: 5.0540996583731365e-05\n",
      "Reject the null hypothesis for Help vs Services, p-value: 0.007370912499282061\n"
     ]
    }
   ],
   "source": [
    "for col_pair in column_combinations:\n",
    "    contingency_table = observed_clicks[list(col_pair)]\n",
    "    chisq, pvalue, df, expected = chi2_contingency(contingency_table)\n",
    "\n",
    "    if pvalue < alpha_pht:\n",
    "        print(f\"Reject the null hypothesis for {col_pair[0]} vs {col_pair[1]}, p-value: {pvalue}\")\n",
    "    else:\n",
    "        print(f\"Fail to reject the null hypothesis for {col_pair[0]} vs {col_pair[1]}, p-value: {pvalue}\")\n"
   ]
  },
  {
   "cell_type": "markdown",
   "id": "be490f7b-32d0-4a63-aaa2-a6779f8bb2b4",
   "metadata": {},
   "source": [
    "There is a statistically significant difference between:  \n",
    "\n",
    "Interact vs Connect  \n",
    "Interact vs Help  \n",
    "Interact vs Services  \n",
    "Connect vs Learn  \n",
    "Learn vs Services   \n",
    "Help vs Services  "
   ]
  },
  {
   "cell_type": "code",
   "execution_count": 37,
   "id": "c384de4a-b91e-40dc-9480-1c21d2fccd77",
   "metadata": {
    "tags": []
   },
   "outputs": [
    {
     "data": {
      "text/html": [
       "<div>\n",
       "<style scoped>\n",
       "    .dataframe tbody tr th:only-of-type {\n",
       "        vertical-align: middle;\n",
       "    }\n",
       "\n",
       "    .dataframe tbody tr th {\n",
       "        vertical-align: top;\n",
       "    }\n",
       "\n",
       "    .dataframe thead th {\n",
       "        text-align: right;\n",
       "    }\n",
       "</style>\n",
       "<table border=\"1\" class=\"dataframe\">\n",
       "  <thead>\n",
       "    <tr style=\"text-align: right;\">\n",
       "      <th></th>\n",
       "      <th>Version</th>\n",
       "      <th>Clicks</th>\n",
       "      <th>Visits</th>\n",
       "      <th>CTR</th>\n",
       "    </tr>\n",
       "  </thead>\n",
       "  <tbody>\n",
       "    <tr>\n",
       "      <th>4</th>\n",
       "      <td>Services</td>\n",
       "      <td>45</td>\n",
       "      <td>2064</td>\n",
       "      <td>0.021802</td>\n",
       "    </tr>\n",
       "    <tr>\n",
       "      <th>1</th>\n",
       "      <td>Connect</td>\n",
       "      <td>53</td>\n",
       "      <td>2742</td>\n",
       "      <td>0.019329</td>\n",
       "    </tr>\n",
       "    <tr>\n",
       "      <th>3</th>\n",
       "      <td>Help</td>\n",
       "      <td>38</td>\n",
       "      <td>3180</td>\n",
       "      <td>0.011950</td>\n",
       "    </tr>\n",
       "    <tr>\n",
       "      <th>2</th>\n",
       "      <td>Learn</td>\n",
       "      <td>21</td>\n",
       "      <td>2747</td>\n",
       "      <td>0.007645</td>\n",
       "    </tr>\n",
       "    <tr>\n",
       "      <th>0</th>\n",
       "      <td>Interact</td>\n",
       "      <td>42</td>\n",
       "      <td>10283</td>\n",
       "      <td>0.004084</td>\n",
       "    </tr>\n",
       "  </tbody>\n",
       "</table>\n",
       "</div>"
      ],
      "text/plain": [
       "    Version  Clicks  Visits       CTR\n",
       "4  Services      45    2064  0.021802\n",
       "1   Connect      53    2742  0.019329\n",
       "3      Help      38    3180  0.011950\n",
       "2     Learn      21    2747  0.007645\n",
       "0  Interact      42   10283  0.004084"
      ]
     },
     "execution_count": 37,
     "metadata": {},
     "output_type": "execute_result"
    }
   ],
   "source": [
    "observed_clicks_CTR.sort_values('CTR', ascending=False)"
   ]
  },
  {
   "cell_type": "markdown",
   "id": "2f5ed21d-7606-4afd-98ff-e957cf34f93f",
   "metadata": {},
   "source": [
    "Services performs statistically better than Help however we cannot say it performs statistically better than Connect. \n",
    "Connect performs statistically better than Learn however we cannot say it performs statistically better than Help.  \n",
    "So the winner are Services and Connect??"
   ]
  },
  {
   "cell_type": "markdown",
   "id": "db69eae1-5fc3-477e-8cc8-bc1c16bfa15d",
   "metadata": {},
   "source": [
    "Looking a drop-out Rates as well - the winner is Services"
   ]
  }
 ],
 "metadata": {
  "kernelspec": {
   "display_name": "Python 3 (ipykernel)",
   "language": "python",
   "name": "python3"
  },
  "language_info": {
   "codemirror_mode": {
    "name": "ipython",
    "version": 3
   },
   "file_extension": ".py",
   "mimetype": "text/x-python",
   "name": "python",
   "nbconvert_exporter": "python",
   "pygments_lexer": "ipython3",
   "version": "3.11.5"
  }
 },
 "nbformat": 4,
 "nbformat_minor": 5
}
